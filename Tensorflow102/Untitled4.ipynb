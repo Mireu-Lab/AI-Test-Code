{
 "cells": [
  {
   "cell_type": "code",
   "execution_count": 1,
   "id": "912993c4-665e-46c2-85f9-3ba7fb602195",
   "metadata": {},
   "outputs": [],
   "source": [
    "!wget -q https://raw.githubusercontent.com/blackdew/tensorflow1/master/csv/notMNIST_small.tar.gz\n",
    "!tar -xzf notMNIST_small.tar.gz"
   ]
  },
  {
   "cell_type": "code",
   "execution_count": 10,
   "id": "99480c4a-8cbb-4348-a939-4f2b895de3f9",
   "metadata": {},
   "outputs": [],
   "source": [
    "import tensorflow as tf\n",
    "import glob\n",
    "import numpy as np\n",
    "import pandas as pd\n",
    "import matplotlib.pyplot as plt"
   ]
  },
  {
   "cell_type": "code",
   "execution_count": 11,
   "id": "faeb63a0-8022-47f8-9adf-fc44579fc1ed",
   "metadata": {},
   "outputs": [
    {
     "name": "stdout",
     "output_type": "stream",
     "text": [
      "(18724, 28, 28, 1) (18724, 10)\n"
     ]
    }
   ],
   "source": [
    "paths = glob.glob('./notMNIST_small/*/*.png')\n",
    "paths = np.random.permutation(paths)\n",
    "독립 = np.array([plt.imread(paths[i]) for i in range(len(paths))])\n",
    "종속 = np.array([paths[i].split('/')[2] for i in range(len(paths))])\n",
    "\n",
    "독립 = 독립.reshape(18724, 28, 28, 1)\n",
    "종속 = pd.get_dummies(종속)\n",
    "\n",
    "print(독립.shape, 종속.shape)"
   ]
  },
  {
   "cell_type": "code",
   "execution_count": null,
   "id": "fe370ff4-8d94-44ef-97ec-cab5aef3d04e",
   "metadata": {},
   "outputs": [],
   "source": [
    "x = tf.keras.layers.Input(shape=[28, 28])\n",
    "\n",
    "h = tf.keras.layers.Conv2D(6, kernel_size=5, padding='same', activation='swish')(x)\n",
    "h = tf.keras.layers.MaxPool2D()(h)\n",
    "h = tf.keras.layers.Conv2D(6, kernel_size=5, activation='swish')(x)\n",
    "h = tf.keras.layers.MaxPool2D()(h)\n",
    "\n",
    "h = tf.keras.layers.Flatten()(h)\n",
    "h = tf.keras.layers.Dense(120, activation='swish')(h)\n",
    "h = tf.keras.layers.Dense(84, activation='swish')(h)\n",
    "h = tf.keras.layers.Dense(10, activation='softmax')(h)\n",
    "\n",
    "model = tf.keras.models.Model(x, y)\n",
    "model.compile(loss='')"
   ]
  }
 ],
 "metadata": {
  "kernelspec": {
   "display_name": "Python 3 (ipykernel)",
   "language": "python",
   "name": "python3"
  },
  "language_info": {
   "codemirror_mode": {
    "name": "ipython",
    "version": 3
   },
   "file_extension": ".py",
   "mimetype": "text/x-python",
   "name": "python",
   "nbconvert_exporter": "python",
   "pygments_lexer": "ipython3",
   "version": "3.8.10"
  }
 },
 "nbformat": 4,
 "nbformat_minor": 5
}
