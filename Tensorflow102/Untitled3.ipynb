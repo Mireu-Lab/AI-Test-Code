{
 "cells": [
  {
   "cell_type": "code",
   "execution_count": 1,
   "id": "a4755d7b-b4e2-49ed-b1d0-f70d1245fe3c",
   "metadata": {},
   "outputs": [
    {
     "name": "stderr",
     "output_type": "stream",
     "text": [
      "2022-01-01 04:53:34.195752: W tensorflow/stream_executor/platform/default/dso_loader.cc:64] Could not load dynamic library 'libcudart.so.11.0'; dlerror: libcudart.so.11.0: cannot open shared object file: No such file or directory\n",
      "2022-01-01 04:53:34.195781: I tensorflow/stream_executor/cuda/cudart_stub.cc:29] Ignore above cudart dlerror if you do not have a GPU set up on your machine.\n"
     ]
    }
   ],
   "source": [
    "import tensorflow as tf\n",
    "import pandas as pd"
   ]
  },
  {
   "cell_type": "code",
   "execution_count": 8,
   "id": "b8b3d6bd-b275-4f45-9a3a-d28a7b8e1be4",
   "metadata": {},
   "outputs": [
    {
     "name": "stdout",
     "output_type": "stream",
     "text": [
      "(50000, 32, 32, 3) (50000, 10)\n"
     ]
    }
   ],
   "source": [
    "(독립, 종속), _ = tf.keras.datasets.cifar10.load_data()\n",
    "종속 = pd.get_dummies(종속.reshape(50000))\n",
    "\n",
    "print(독립.shape, 종속.shape)"
   ]
  },
  {
   "cell_type": "code",
   "execution_count": 13,
   "id": "63ec5a5e-5235-4707-9298-93ca0568ab81",
   "metadata": {},
   "outputs": [],
   "source": [
    "x = tf.keras.layers.Input(shape=[32, 32, 3])\n",
    "\n",
    "h = tf.keras.layers.Conv2D(6, kernel_size=5, activation='swish')(x)\n",
    "h = tf.keras.layers.MaxPool2D()(h)\n",
    "h = tf.keras.layers.Conv2D(16, kernel_size=5, activation='swish')(h)\n",
    "h = tf.keras.layers.MaxPool2D()(h)\n",
    "\n",
    "h = tf.keras.layers.Flatten()(h)\n",
    "h = tf.keras.layers.Dense(120, activation='swish')(h)\n",
    "h = tf.keras.layers.Dense(84, activation='swish')(h)\n",
    "y = tf.keras.layers.Dense(10, activation='softmax')(h)\n",
    "\n",
    "model = tf.keras.models.Model(x,y)\n",
    "model.compile(loss='categorical_crossentropy', metrics='accuracy')"
   ]
  },
  {
   "cell_type": "code",
   "execution_count": 14,
   "id": "5d4152c3-ab48-422e-8684-61ed142be511",
   "metadata": {},
   "outputs": [
    {
     "name": "stdout",
     "output_type": "stream",
     "text": [
      "Model: \"model_1\"\n",
      "_________________________________________________________________\n",
      " Layer (type)                Output Shape              Param #   \n",
      "=================================================================\n",
      " input_8 (InputLayer)        [(None, 32, 32, 3)]       0         \n",
      "                                                                 \n",
      " conv2d_9 (Conv2D)           (None, 28, 28, 6)         456       \n",
      "                                                                 \n",
      " max_pooling2d_4 (MaxPooling  (None, 14, 14, 6)        0         \n",
      " 2D)                                                             \n",
      "                                                                 \n",
      " conv2d_10 (Conv2D)          (None, 10, 10, 16)        2416      \n",
      "                                                                 \n",
      " max_pooling2d_5 (MaxPooling  (None, 5, 5, 16)         0         \n",
      " 2D)                                                             \n",
      "                                                                 \n",
      " flatten_2 (Flatten)         (None, 400)               0         \n",
      "                                                                 \n",
      " dense_6 (Dense)             (None, 120)               48120     \n",
      "                                                                 \n",
      " dense_7 (Dense)             (None, 84)                10164     \n",
      "                                                                 \n",
      " dense_8 (Dense)             (None, 10)                850       \n",
      "                                                                 \n",
      "=================================================================\n",
      "Total params: 62,006\n",
      "Trainable params: 62,006\n",
      "Non-trainable params: 0\n",
      "_________________________________________________________________\n"
     ]
    }
   ],
   "source": [
    "model.summary()"
   ]
  },
  {
   "cell_type": "code",
   "execution_count": 16,
   "id": "a3de2d20-c43f-4243-9cfc-10f563633c49",
   "metadata": {},
   "outputs": [
    {
     "name": "stdout",
     "output_type": "stream",
     "text": [
      "Epoch 1/15\n",
      "1563/1563 [==============================] - 32s 21ms/step - loss: 1.3989 - accuracy: 0.5233\n",
      "Epoch 2/15\n",
      "1563/1563 [==============================] - 32s 21ms/step - loss: 1.3856 - accuracy: 0.5259\n",
      "Epoch 3/15\n",
      "1563/1563 [==============================] - 32s 21ms/step - loss: 1.3867 - accuracy: 0.5273\n",
      "Epoch 4/15\n",
      "1563/1563 [==============================] - 32s 21ms/step - loss: 1.3924 - accuracy: 0.5252\n",
      "Epoch 5/15\n",
      "1563/1563 [==============================] - 32s 21ms/step - loss: 1.3924 - accuracy: 0.5276\n",
      "Epoch 6/15\n",
      "1563/1563 [==============================] - 32s 21ms/step - loss: 1.4049 - accuracy: 0.5254\n",
      "Epoch 7/15\n",
      "1563/1563 [==============================] - 32s 21ms/step - loss: 1.3847 - accuracy: 0.5385\n",
      "Epoch 8/15\n",
      "1563/1563 [==============================] - 32s 21ms/step - loss: 1.3191 - accuracy: 0.5540\n",
      "Epoch 9/15\n",
      "1563/1563 [==============================] - 32s 21ms/step - loss: 1.3128 - accuracy: 0.5549\n",
      "Epoch 10/15\n",
      "1563/1563 [==============================] - 32s 21ms/step - loss: 1.3205 - accuracy: 0.5613\n",
      "Epoch 11/15\n",
      "1563/1563 [==============================] - 32s 21ms/step - loss: 1.2695 - accuracy: 0.5688\n",
      "Epoch 12/15\n",
      "1563/1563 [==============================] - 32s 21ms/step - loss: 1.2766 - accuracy: 0.5769\n",
      "Epoch 13/15\n",
      "1563/1563 [==============================] - 32s 21ms/step - loss: 1.2609 - accuracy: 0.5779\n",
      "Epoch 14/15\n",
      "1563/1563 [==============================] - 32s 21ms/step - loss: 1.2563 - accuracy: 0.5805\n",
      "Epoch 15/15\n",
      "1563/1563 [==============================] - 32s 21ms/step - loss: 1.2562 - accuracy: 0.5826\n"
     ]
    },
    {
     "data": {
      "text/plain": [
       "<keras.callbacks.History at 0x7fbec18a8fd0>"
      ]
     },
     "execution_count": 16,
     "metadata": {},
     "output_type": "execute_result"
    }
   ],
   "source": [
    "model.fit(독립, 종속, epochs=15)"
   ]
  },
  {
   "cell_type": "code",
   "execution_count": null,
   "id": "112840c2-3cd4-4cd6-993e-dfde7815a581",
   "metadata": {},
   "outputs": [],
   "source": []
  }
 ],
 "metadata": {
  "kernelspec": {
   "display_name": "Python 3 (ipykernel)",
   "language": "python",
   "name": "python3"
  },
  "language_info": {
   "codemirror_mode": {
    "name": "ipython",
    "version": 3
   },
   "file_extension": ".py",
   "mimetype": "text/x-python",
   "name": "python",
   "nbconvert_exporter": "python",
   "pygments_lexer": "ipython3",
   "version": "3.8.10"
  }
 },
 "nbformat": 4,
 "nbformat_minor": 5
}
